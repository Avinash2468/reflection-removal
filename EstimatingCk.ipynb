{
 "cells": [
  {
   "cell_type": "code",
   "execution_count": 1,
   "metadata": {},
   "outputs": [],
   "source": [
    "import cv2\n",
    "import numpy as np\n",
    "import matplotlib.pyplot as plt\n",
    "import time\n",
    "import math\n",
    "from scipy import signal\n",
    "%matplotlib inline"
   ]
  },
  {
   "cell_type": "code",
   "execution_count": 68,
   "metadata": {},
   "outputs": [],
   "source": [
    "def contrast_normalise(img):   \n",
    "    img_yuv = cv2.cvtColor(img, cv2.COLOR_BGR2YUV)\n",
    "    img_yuv[:,:,0] = cv2.equalizeHist(img_yuv[:,:,0])\n",
    "    return cv2.cvtColor(img_yuv, cv2.COLOR_YUV2BGR)"
   ]
  },
  {
   "cell_type": "code",
   "execution_count": 3,
   "metadata": {},
   "outputs": [],
   "source": [
    "def get_wa(img, dst, x1, y1, x2, y2):\n",
    "    try:\n",
    "        if dst[x1][y1] == 0 or dst[x2][y2] == 0 :\n",
    "            return 0, 0\n",
    "    except:\n",
    "        return 0, 0\n",
    "#     print(x1, y1)\n",
    "    patch1 = contrast_normalise(img[x1-2:x1+3, y1-2:y1+3]) #padding?\n",
    "    patch2 = contrast_normalise(img[x2-2:x2+3, y2-2:y2+3]) #padding?\n",
    "    corr = np.zeros((5, 5))\n",
    "    include = 1\n",
    "    for i in range(3):\n",
    "        corr = signal.correlate2d(patch1[..., i], patch2[..., i], boundary='symm', mode='same')\n",
    "        if corr[2][2] < 100: #thresholding for color images?\n",
    "            return 0, 0\n",
    "    \n",
    "    w = (np.exp(np.linalg.norm(patch1 - patch2)/(-2*0.2*0.2)))  #giving 0\n",
    "    var1 = np.var(patch1)\n",
    "    var2 = np.var(patch2)\n",
    "    if var1 > var2:\n",
    "        return w, np.sqrt(var2/var1)\n",
    "    else:\n",
    "        return w, np.sqrt(var1/var2)\n",
    "    \n",
    "def get_ck(img, crnrs, dk):\n",
    "    plt.imshow(img)\n",
    "    plt.show()\n",
    "    numer = 0\n",
    "    denom = 0\n",
    "    for x in range(img.shape[0]):\n",
    "        for y in range(img.shape[1]):\n",
    "            w, a = get_wa(img, crnrs, x, y, x+dk[0], y+dk[1])\n",
    "            if w!=0 or a!=0:\n",
    "                print(w, a)\n",
    "            numer += w*a\n",
    "            denom += w\n",
    "            \n",
    "    return numer/denom"
   ]
  },
  {
   "cell_type": "code",
   "execution_count": 2,
   "metadata": {},
   "outputs": [
    {
     "data": {
      "image/png": "[encoded data removed]",
      "text/plain": [
       "<Figure size 432x288 with 1 Axes>"
      ]
     },
     "metadata": {
      "needs_background": "light"
     },
     "output_type": "display_data"
    },
    {
     "ename": "NameError",
     "evalue": "name 'get_ck' is not defined",
     "output_type": "error",
     "traceback": [
      "\u001b[0;31m---------------------------------------------------------------------------\u001b[0m",
      "\u001b[0;31mNameError\u001b[0m                                 Traceback (most recent call last)",
      "\u001b[0;32m<ipython-input-2-ee7b72720519>\u001b[0m in \u001b[0;36m<module>\u001b[0;34m\u001b[0m\n\u001b[1;32m     21\u001b[0m \u001b[0;34m\u001b[0m\u001b[0m\n\u001b[1;32m     22\u001b[0m \u001b[0;34m\u001b[0m\u001b[0m\n\u001b[0;32m---> 23\u001b[0;31m \u001b[0mcalling\u001b[0m\u001b[0;34m(\u001b[0m\u001b[0;34m)\u001b[0m\u001b[0;34m\u001b[0m\u001b[0;34m\u001b[0m\u001b[0m\n\u001b[0m",
      "\u001b[0;32m<ipython-input-2-ee7b72720519>\u001b[0m in \u001b[0;36mcalling\u001b[0;34m()\u001b[0m\n\u001b[1;32m     13\u001b[0m     \u001b[0mplt\u001b[0m\u001b[0;34m.\u001b[0m\u001b[0mshow\u001b[0m\u001b[0;34m(\u001b[0m\u001b[0;34m)\u001b[0m\u001b[0;34m\u001b[0m\u001b[0;34m\u001b[0m\u001b[0m\n\u001b[1;32m     14\u001b[0m \u001b[0;34m\u001b[0m\u001b[0m\n\u001b[0;32m---> 15\u001b[0;31m     \u001b[0mprint\u001b[0m\u001b[0;34m(\u001b[0m\u001b[0mget_ck\u001b[0m\u001b[0;34m(\u001b[0m\u001b[0mimg\u001b[0m\u001b[0;34m,\u001b[0m \u001b[0mdst\u001b[0m\u001b[0;34m,\u001b[0m \u001b[0;34m[\u001b[0m\u001b[0;36m10\u001b[0m\u001b[0;34m,\u001b[0m \u001b[0;36m20\u001b[0m\u001b[0;34m]\u001b[0m\u001b[0;34m)\u001b[0m\u001b[0;34m)\u001b[0m\u001b[0;34m\u001b[0m\u001b[0;34m\u001b[0m\u001b[0m\n\u001b[0m\u001b[1;32m     16\u001b[0m \u001b[0;34m\u001b[0m\u001b[0m\n\u001b[1;32m     17\u001b[0m     \u001b[0mimg\u001b[0m\u001b[0;34m[\u001b[0m\u001b[0mdst\u001b[0m\u001b[0;34m>\u001b[0m\u001b[0mthreshold\u001b[0m\u001b[0;34m]\u001b[0m\u001b[0;34m=\u001b[0m\u001b[0;34m[\u001b[0m\u001b[0;36m0\u001b[0m\u001b[0;34m,\u001b[0m \u001b[0;36m0\u001b[0m\u001b[0;34m,\u001b[0m \u001b[0;36m255\u001b[0m\u001b[0;34m]\u001b[0m\u001b[0;34m\u001b[0m\u001b[0;34m\u001b[0m\u001b[0m\n",
      "\u001b[0;31mNameError\u001b[0m: name 'get_ck' is not defined"
     ]
    }
   ],
   "source": [
    "def calling():\n",
    "    filename = 'test_im.png'\n",
    "    img = cv2.imread(filename)\n",
    "    gray = cv2.cvtColor(img,cv2.COLOR_BGR2GRAY) #channel by channel?\n",
    "\n",
    "    gray = np.float32(gray)\n",
    "    dst = cv2.cornerHarris(gray,2,3,0.04)\n",
    "\n",
    "    threshold = 0.01*dst.max()\n",
    "    crnrs = np.zeros((dst.shape))\n",
    "    crnrs[dst>threshold] = 255\n",
    "    plt.imshow(crnrs, cmap=\"gray\")\n",
    "    plt.show()\n",
    "    \n",
    "    print(get_ck(img, dst, [10, 20]))\n",
    "    \n",
    "    img[dst>threshold]=[0, 0, 255]\n",
    "    plt.imshow(img)\n",
    "    plt.show()\n",
    "    \n",
    "    \n",
    "    \n",
    "calling()"
   ]
  },
  {
   "cell_type": "code",
   "execution_count": null,
   "metadata": {},
   "outputs": [],
   "source": []
  }
 ],
 "metadata": {
  "kernelspec": {
   "display_name": "Python 3",
   "language": "python",
   "name": "python3"
  },
  "language_info": {
   "codemirror_mode": {
    "name": "ipython",
    "version": 3
   },
   "file_extension": ".py",
   "mimetype": "text/x-python",
   "name": "python",
   "nbconvert_exporter": "python",
   "pygments_lexer": "ipython3",
   "version": "3.8.3"
  }
 },
 "nbformat": 4,
 "nbformat_minor": 4
}

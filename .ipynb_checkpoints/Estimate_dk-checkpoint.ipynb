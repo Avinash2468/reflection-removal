{
 "cells": [
  {
   "cell_type": "code",
   "execution_count": 1,
   "metadata": {},
   "outputs": [],
   "source": [
    "import cv2\n",
    "import matplotlib.pyplot as plt\n",
    "import numpy as np\n",
    "import math\n",
    "import time\n",
    "import cmath \n",
    "from cmath import pi, exp\n",
    "from scipy import signal\n",
    "import json"
   ]
  },
  {
   "cell_type": "code",
   "execution_count": 7,
   "metadata": {},
   "outputs": [],
   "source": [
    "img = cv2.imread('./test_images/simple.png',0)"
   ]
  },
  {
   "cell_type": "code",
   "execution_count": 8,
   "metadata": {},
   "outputs": [],
   "source": [
    "laplacian = cv2.Laplacian(img,cv2.CV_64F)"
   ]
  },
  {
   "cell_type": "code",
   "execution_count": 9,
   "metadata": {},
   "outputs": [
    {
     "data": {
      "text/plain": [
       "<matplotlib.image.AxesImage at 0x7f22760bccf8>"
      ]
     },
     "execution_count": 9,
     "metadata": {},
     "output_type": "execute_result"
    },
    {
     "data": {
      "image/png": "[encoded data removed]",
      "text/plain": [
       "<Figure size 432x288 with 1 Axes>"
      ]
     },
     "metadata": {
      "needs_background": "light"
     },
     "output_type": "display_data"
    }
   ],
   "source": [
    "plt.imshow(laplacian,cmap='gray')"
   ]
  },
  {
   "cell_type": "code",
   "execution_count": 10,
   "metadata": {},
   "outputs": [],
   "source": [
    "corr = signal.correlate2d(laplacian, laplacian, boundary='symm', mode='same')"
   ]
  },
  {
   "cell_type": "code",
   "execution_count": 11,
   "metadata": {},
   "outputs": [
    {
     "name": "stdout",
     "output_type": "stream",
     "text": [
      "(100, 100)\n"
     ]
    },
    {
     "data": {
      "image/png": "[encoded data removed]",
      "text/plain": [
       "<Figure size 432x288 with 1 Axes>"
      ]
     },
     "metadata": {
      "needs_background": "light"
     },
     "output_type": "display_data"
    }
   ],
   "source": [
    "plt.imshow(corr,cmap='gray')\n",
    "print(corr.shape)"
   ]
  },
  {
   "cell_type": "code",
   "execution_count": 12,
   "metadata": {},
   "outputs": [],
   "source": [
    "#function to detect dk \n",
    "\n",
    "def maxima(im,k, thresh = 4):\n",
    "    \n",
    "    ht,wd = im.shape\n",
    "    ori_h = ht // 2\n",
    "    ori_w = wd // 2\n",
    "    maxx = {}\n",
    "        \n",
    "    for i in range(ht-k+1):\n",
    "        for j in range(wd-k+1):\n",
    "            \n",
    "            #center pixel\n",
    "            cell_i = i+k//2\n",
    "            cell_j = j+k//2\n",
    "                        \n",
    "            #if pixel in the vicinity of origin, ignore\n",
    "            if abs(cell_i-ori_h) <=4 and abs(cell_j-ori_w) <=4:\n",
    "                continue\n",
    "            \n",
    "            flat = im[i:i+k, j:j+k].flatten()\n",
    "            flat.sort()\n",
    "            \n",
    "            #if the first and second maxima differ <= thresh, ignore\n",
    "            if abs(flat[-1]-flat[-2]) <=thresh : \n",
    "                continue\n",
    "                \n",
    "            else:\n",
    "                maxx[flat[-1]] = (cell_i,cell_j)\n",
    "    \n",
    "    return sorted(maxx.items())   "
   ]
  },
  {
   "cell_type": "code",
   "execution_count": 13,
   "metadata": {
    "scrolled": false
   },
   "outputs": [],
   "source": [
    "res = maxima(corr, 5)"
   ]
  },
  {
   "cell_type": "code",
   "execution_count": 14,
   "metadata": {
    "scrolled": false
   },
   "outputs": [
    {
     "name": "stdout",
     "output_type": "stream",
     "text": [
      "probable values of dk :\n",
      "(66, 51)\n",
      "(45, 51)\n"
     ]
    }
   ],
   "source": [
    "print(\"probable values of dk :\")\n",
    "print(res[-1][1])\n",
    "print(res[-2][1])"
   ]
  }
 ],
 "metadata": {
  "kernelspec": {
   "display_name": "Python 3",
   "language": "python",
   "name": "python3"
  },
  "language_info": {
   "codemirror_mode": {
    "name": "ipython",
    "version": 3
   },
   "file_extension": ".py",
   "mimetype": "text/x-python",
   "name": "python",
   "nbconvert_exporter": "python",
   "pygments_lexer": "ipython3",
   "version": "3.6.9"
  }
 },
 "nbformat": 4,
 "nbformat_minor": 4
}

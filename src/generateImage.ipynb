{
 "cells": [
  {
   "cell_type": "code",
   "execution_count": 1,
   "metadata": {},
   "outputs": [],
   "source": [
    "import cv2\n",
    "import numpy as np"
   ]
  },
  {
   "cell_type": "code",
   "execution_count": 6,
   "metadata": {},
   "outputs": [
    {
     "data": {
      "text/plain": [
       "True"
      ]
     },
     "execution_count": 6,
     "metadata": {},
     "output_type": "execute_result"
    }
   ],
   "source": [
    "arr = np.random.randint(10, size=(60,80))\n",
    "arr = np.ones((60,80))\n",
    "# arr[15:35, 25:45] = np.random.randint(255, size=(20,20))\n",
    "arr[15:35, 25:45] = 255\n",
    "cv2.imwrite(\"t.png\",arr)\n",
    "\n",
    "arr = np.random.randint(10, size=(60,80))\n",
    "arr = np.ones((60,80))\n",
    "arr[30:50, 15:50] = 255\n",
    "# arr[30:50, 15:50] = np.random.randint(255, size=(20,35))\n",
    "cv2.imwrite(\"r.png\",arr)"
   ]
  },
  {
   "cell_type": "code",
   "execution_count": null,
   "metadata": {},
   "outputs": [],
   "source": []
  }
 ],
 "metadata": {
  "kernelspec": {
   "display_name": "Python 3",
   "language": "python",
   "name": "python3"
  },
  "language_info": {
   "codemirror_mode": {
    "name": "ipython",
    "version": 3
   },
   "file_extension": ".py",
   "mimetype": "text/x-python",
   "name": "python",
   "nbconvert_exporter": "python",
   "pygments_lexer": "ipython3",
   "version": "3.6.9"
  }
 },
 "nbformat": 4,
 "nbformat_minor": 4
}
